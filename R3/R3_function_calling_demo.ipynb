{
 "cells": [
  {
   "cell_type": "code",
   "execution_count": 1,
   "metadata": {},
   "outputs": [
    {
     "data": {
      "text/plain": [
       "True"
      ]
     },
     "execution_count": 1,
     "metadata": {},
     "output_type": "execute_result"
    }
   ],
   "source": [
    "import os\n",
    "from dotenv import load_dotenv\n",
    "from langchain.chat_models import init_chat_model\n",
    "from typing_extensions import TypedDict\n",
    "from typing import Annotated\n",
    "from langgraph.graph.message import add_messages\n",
    "from langgraph.graph import MessagesState\n",
    "from langchain_core.messages import AIMessage, HumanMessage, SystemMessage\n",
    "\n",
    "import datetime\n",
    "\n",
    "load_dotenv()"
   ]
  },
  {
   "cell_type": "code",
   "execution_count": 2,
   "metadata": {},
   "outputs": [],
   "source": [
    "# 想讓 LLM 調用的 function / tool\n",
    "\n",
    "def get_weather(location: str, date: str = None) -> str:\n",
    "    if not date:\n",
    "        date = (datetime.date.today() + datetime.timedelta(days=1)).isoformat()\n",
    "    return f\"{location} 在 {date} 的天氣是晴時多雲，氣溫約 26~32 °C。\""
   ]
  },
  {
   "cell_type": "code",
   "execution_count": 3,
   "metadata": {},
   "outputs": [],
   "source": [
    "llm = init_chat_model(\"openai:gpt-4.1-mini\")"
   ]
  },
  {
   "cell_type": "markdown",
   "metadata": {},
   "source": [
    "### 工具揭露"
   ]
  },
  {
   "cell_type": "code",
   "execution_count": null,
   "metadata": {},
   "outputs": [],
   "source": [
    "tool_expose_prompt = \"\"\"\n",
    "你可以使用 get_weather 函數來查詢天氣，它需要以下參數:\n",
    "- location (必填): 要查詢的地點名稱\n",
    "- date (選填): 要查詢的日期，格式為 YYYY-MM-DD。如果不提供，預設會查詢明天的天氣。\n",
    "\n",
    "範例:\n",
    "get_weather(location=\"台北\", date=\"2024-01-01\")\n",
    "get_weather(location=\"台中\")\n",
    "\n",
    "如果要使用工具，勿必要回傳上述語法，不要省略任何字元，也不要自行增長任何字元，否則會導致工具無法正常使用\n",
    "\"\"\""
   ]
  },
  {
   "cell_type": "markdown",
   "metadata": {},
   "source": [
    "### 使用者對話"
   ]
  },
  {
   "cell_type": "code",
   "execution_count": 8,
   "metadata": {},
   "outputs": [
    {
     "name": "stdout",
     "output_type": "stream",
     "text": [
      "get_weather(location=\"馬爾地夫\")\n"
     ]
    }
   ],
   "source": [
    "user_input = \"請問明天馬爾地夫天氣如何\"\n",
    "# user_input = \"嗨你好\"\n",
    "\n",
    "messages = [\n",
    "    SystemMessage(content=tool_expose_prompt),\n",
    "    HumanMessage(content=user_input),\n",
    "]\n",
    "\n",
    "response = llm.invoke(messages)\n",
    "print(response.content)"
   ]
  },
  {
   "cell_type": "markdown",
   "metadata": {},
   "source": [
    "### 解析 LLM 輸出，判斷是否使用 function"
   ]
  },
  {
   "cell_type": "code",
   "execution_count": null,
   "metadata": {},
   "outputs": [
    {
     "name": "stdout",
     "output_type": "stream",
     "text": [
      "馬爾地夫 在 2025-06-04 的天氣是晴時多雲，氣溫約 26~32 °C。\n"
     ]
    }
   ],
   "source": [
    "if \"get_weather\" in response.content:\n",
    "    # 從 response.content 進行解析\n",
    "    resp = eval(response.content)\n",
    "    print(resp)\n",
    "else:\n",
    "    print(\"沒有使用工具\")\n",
    "    print(response.content)"
   ]
  }
 ],
 "metadata": {
  "kernelspec": {
   "display_name": ".venv",
   "language": "python",
   "name": "python3"
  },
  "language_info": {
   "codemirror_mode": {
    "name": "ipython",
    "version": 3
   },
   "file_extension": ".py",
   "mimetype": "text/x-python",
   "name": "python",
   "nbconvert_exporter": "python",
   "pygments_lexer": "ipython3",
   "version": "3.12.7"
  }
 },
 "nbformat": 4,
 "nbformat_minor": 2
}
