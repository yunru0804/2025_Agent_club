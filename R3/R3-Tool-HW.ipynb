{
  "nbformat": 4,
  "nbformat_minor": 0,
  "metadata": {
    "colab": {
      "provenance": []
    },
    "kernelspec": {
      "name": "python3",
      "display_name": "Python 3"
    },
    "language_info": {
      "name": "python"
    }
  },
  "cells": [
    {
      "cell_type": "markdown",
      "source": [
        "# R3-Tool_HW\n",
        "\n"
      ],
      "metadata": {
        "id": "_dRuBpntVvcE"
      }
    },
    {
      "cell_type": "markdown",
      "source": [
        "## 非程式題\n",
        "\n",
        "請前往 https://mcp.so/ ，選擇一個 MCP Server，並回答以下問題：\n",
        "\n",
        "1. 該 MCP Server 的名稱為何？\n",
        "2. 它提供了哪些主要功能？\n",
        "3. 你認為這些功能可以應用於哪些實際場景或解決哪些問題？"
      ],
      "metadata": {
        "id": "nvLW8wVj3Ocb"
      }
    },
    {
      "cell_type": "markdown",
      "source": [
        "## 程式題\n",
        "### baseline\n",
        "\n",
        "使用 LangChain 的 Agent，註冊三個工具（查天氣、查時間、查匯率），讓 Agent 根據輸入自動選擇正確的工具來回答問題。"
      ],
      "metadata": {
        "id": "wk_XJXdp3sI_"
      }
    },
    {
      "cell_type": "code",
      "source": [
        "!pip install -q langchain langgraph transformers bitsandbytes langchain-huggingface langchain-community chromadb openai langchain_openai"
      ],
      "metadata": {
        "colab": {
          "base_uri": "https://localhost:8080/"
        },
        "id": "cpSoHWj6aj3q",
        "outputId": "501d56ab-0eff-40c4-e1a5-742bda96496b"
      },
      "execution_count": 1,
      "outputs": [
        {
          "output_type": "stream",
          "name": "stdout",
          "text": [
            "\u001b[?25l     \u001b[90m━━━━━━━━━━━━━━━━━━━━━━━━━━━━━━━━━━━━━━━━\u001b[0m \u001b[32m0.0/67.3 kB\u001b[0m \u001b[31m?\u001b[0m eta \u001b[36m-:--:--\u001b[0m\r\u001b[2K     \u001b[90m━━━━━━━━━━━━━━━━━━━━━━━━━━━━━━━━━━━━━━━━\u001b[0m \u001b[32m67.3/67.3 kB\u001b[0m \u001b[31m2.7 MB/s\u001b[0m eta \u001b[36m0:00:00\u001b[0m\n",
            "\u001b[?25h  Installing build dependencies ... \u001b[?25l\u001b[?25hdone\n",
            "  Getting requirements to build wheel ... \u001b[?25l\u001b[?25hdone\n",
            "  Preparing metadata (pyproject.toml) ... \u001b[?25l\u001b[?25hdone\n",
            "\u001b[2K     \u001b[90m━━━━━━━━━━━━━━━━━━━━━━━━━━━━━━━━━━━━━━━━\u001b[0m \u001b[32m43.7/43.7 kB\u001b[0m \u001b[31m2.3 MB/s\u001b[0m eta \u001b[36m0:00:00\u001b[0m\n",
            "\u001b[2K   \u001b[90m━━━━━━━━━━━━━━━━━━━━━━━━━━━━━━━━━━━━━━━━\u001b[0m \u001b[32m152.4/152.4 kB\u001b[0m \u001b[31m6.5 MB/s\u001b[0m eta \u001b[36m0:00:00\u001b[0m\n",
            "\u001b[2K   \u001b[90m━━━━━━━━━━━━━━━━━━━━━━━━━━━━━━━━━━━━━━━━\u001b[0m \u001b[32m67.0/67.0 MB\u001b[0m \u001b[31m14.4 MB/s\u001b[0m eta \u001b[36m0:00:00\u001b[0m\n",
            "\u001b[2K   \u001b[90m━━━━━━━━━━━━━━━━━━━━━━━━━━━━━━━━━━━━━━━━\u001b[0m \u001b[32m2.5/2.5 MB\u001b[0m \u001b[31m70.5 MB/s\u001b[0m eta \u001b[36m0:00:00\u001b[0m\n",
            "\u001b[2K   \u001b[90m━━━━━━━━━━━━━━━━━━━━━━━━━━━━━━━━━━━━━━━━\u001b[0m \u001b[32m19.3/19.3 MB\u001b[0m \u001b[31m65.3 MB/s\u001b[0m eta \u001b[36m0:00:00\u001b[0m\n",
            "\u001b[2K   \u001b[90m━━━━━━━━━━━━━━━━━━━━━━━━━━━━━━━━━━━━━━━━\u001b[0m \u001b[32m94.9/94.9 kB\u001b[0m \u001b[31m6.0 MB/s\u001b[0m eta \u001b[36m0:00:00\u001b[0m\n",
            "\u001b[2K   \u001b[90m━━━━━━━━━━━━━━━━━━━━━━━━━━━━━━━━━━━━━━━━\u001b[0m \u001b[32m65.4/65.4 kB\u001b[0m \u001b[31m3.8 MB/s\u001b[0m eta \u001b[36m0:00:00\u001b[0m\n",
            "\u001b[2K   \u001b[90m━━━━━━━━━━━━━━━━━━━━━━━━━━━━━━━━━━━━━━━━\u001b[0m \u001b[32m284.2/284.2 kB\u001b[0m \u001b[31m21.4 MB/s\u001b[0m eta \u001b[36m0:00:00\u001b[0m\n",
            "\u001b[2K   \u001b[90m━━━━━━━━━━━━━━━━━━━━━━━━━━━━━━━━━━━━━━━━\u001b[0m \u001b[32m1.9/1.9 MB\u001b[0m \u001b[31m67.1 MB/s\u001b[0m eta \u001b[36m0:00:00\u001b[0m\n",
            "\u001b[2K   \u001b[90m━━━━━━━━━━━━━━━━━━━━━━━━━━━━━━━━━━━━━━━━\u001b[0m \u001b[32m438.1/438.1 kB\u001b[0m \u001b[31m25.1 MB/s\u001b[0m eta \u001b[36m0:00:00\u001b[0m\n",
            "\u001b[2K   \u001b[90m━━━━━━━━━━━━━━━━━━━━━━━━━━━━━━━━━━━━━━━━\u001b[0m \u001b[32m44.2/44.2 kB\u001b[0m \u001b[31m2.7 MB/s\u001b[0m eta \u001b[36m0:00:00\u001b[0m\n",
            "\u001b[2K   \u001b[90m━━━━━━━━━━━━━━━━━━━━━━━━━━━━━━━━━━━━━━━━\u001b[0m \u001b[32m50.0/50.0 kB\u001b[0m \u001b[31m3.2 MB/s\u001b[0m eta \u001b[36m0:00:00\u001b[0m\n",
            "\u001b[2K   \u001b[90m━━━━━━━━━━━━━━━━━━━━━━━━━━━━━━━━━━━━━━━━\u001b[0m \u001b[32m363.0/363.0 kB\u001b[0m \u001b[31m22.9 MB/s\u001b[0m eta \u001b[36m0:00:00\u001b[0m\n",
            "\u001b[2K   \u001b[90m━━━━━━━━━━━━━━━━━━━━━━━━━━━━━━━━━━━━━━━━\u001b[0m \u001b[32m101.6/101.6 kB\u001b[0m \u001b[31m6.7 MB/s\u001b[0m eta \u001b[36m0:00:00\u001b[0m\n",
            "\u001b[2K   \u001b[90m━━━━━━━━━━━━━━━━━━━━━━━━━━━━━━━━━━━━━━━━\u001b[0m \u001b[32m16.4/16.4 MB\u001b[0m \u001b[31m90.9 MB/s\u001b[0m eta \u001b[36m0:00:00\u001b[0m\n",
            "\u001b[2K   \u001b[90m━━━━━━━━━━━━━━━━━━━━━━━━━━━━━━━━━━━━━━━━\u001b[0m \u001b[32m65.8/65.8 kB\u001b[0m \u001b[31m3.9 MB/s\u001b[0m eta \u001b[36m0:00:00\u001b[0m\n",
            "\u001b[2K   \u001b[90m━━━━━━━━━━━━━━━━━━━━━━━━━━━━━━━━━━━━━━━━\u001b[0m \u001b[32m55.7/55.7 kB\u001b[0m \u001b[31m3.7 MB/s\u001b[0m eta \u001b[36m0:00:00\u001b[0m\n",
            "\u001b[2K   \u001b[90m━━━━━━━━━━━━━━━━━━━━━━━━━━━━━━━━━━━━━━━━\u001b[0m \u001b[32m196.2/196.2 kB\u001b[0m \u001b[31m12.5 MB/s\u001b[0m eta \u001b[36m0:00:00\u001b[0m\n",
            "\u001b[2K   \u001b[90m━━━━━━━━━━━━━━━━━━━━━━━━━━━━━━━━━━━━━━━━\u001b[0m \u001b[32m118.5/118.5 kB\u001b[0m \u001b[31m8.2 MB/s\u001b[0m eta \u001b[36m0:00:00\u001b[0m\n",
            "\u001b[2K   \u001b[90m━━━━━━━━━━━━━━━━━━━━━━━━━━━━━━━━━━━━━━━━\u001b[0m \u001b[32m102.5/102.5 kB\u001b[0m \u001b[31m6.6 MB/s\u001b[0m eta \u001b[36m0:00:00\u001b[0m\n",
            "\u001b[2K   \u001b[90m━━━━━━━━━━━━━━━━━━━━━━━━━━━━━━━━━━━━━━━━\u001b[0m \u001b[32m44.4/44.4 kB\u001b[0m \u001b[31m2.7 MB/s\u001b[0m eta \u001b[36m0:00:00\u001b[0m\n",
            "\u001b[2K   \u001b[90m━━━━━━━━━━━━━━━━━━━━━━━━━━━━━━━━━━━━━━━━\u001b[0m \u001b[32m363.4/363.4 MB\u001b[0m \u001b[31m4.4 MB/s\u001b[0m eta \u001b[36m0:00:00\u001b[0m\n",
            "\u001b[2K   \u001b[90m━━━━━━━━━━━━━━━━━━━━━━━━━━━━━━━━━━━━━━━━\u001b[0m \u001b[32m13.8/13.8 MB\u001b[0m \u001b[31m59.1 MB/s\u001b[0m eta \u001b[36m0:00:00\u001b[0m\n",
            "\u001b[2K   \u001b[90m━━━━━━━━━━━━━━━━━━━━━━━━━━━━━━━━━━━━━━━━\u001b[0m \u001b[32m24.6/24.6 MB\u001b[0m \u001b[31m35.3 MB/s\u001b[0m eta \u001b[36m0:00:00\u001b[0m\n",
            "\u001b[2K   \u001b[90m━━━━━━━━━━━━━━━━━━━━━━━━━━━━━━━━━━━━━━━━\u001b[0m \u001b[32m883.7/883.7 kB\u001b[0m \u001b[31m37.4 MB/s\u001b[0m eta \u001b[36m0:00:00\u001b[0m\n",
            "\u001b[2K   \u001b[90m━━━━━━━━━━━━━━━━━━━━━━━━━━━━━━━━━━━━━━━━\u001b[0m \u001b[32m664.8/664.8 MB\u001b[0m \u001b[31m1.3 MB/s\u001b[0m eta \u001b[36m0:00:00\u001b[0m\n",
            "\u001b[2K   \u001b[90m━━━━━━━━━━━━━━━━━━━━━━━━━━━━━━━━━━━━━━━━\u001b[0m \u001b[32m211.5/211.5 MB\u001b[0m \u001b[31m5.8 MB/s\u001b[0m eta \u001b[36m0:00:00\u001b[0m\n",
            "\u001b[2K   \u001b[90m━━━━━━━━━━━━━━━━━━━━━━━━━━━━━━━━━━━━━━━━\u001b[0m \u001b[32m56.3/56.3 MB\u001b[0m \u001b[31m12.9 MB/s\u001b[0m eta \u001b[36m0:00:00\u001b[0m\n",
            "\u001b[2K   \u001b[90m━━━━━━━━━━━━━━━━━━━━━━━━━━━━━━━━━━━━━━━━\u001b[0m \u001b[32m127.9/127.9 MB\u001b[0m \u001b[31m7.3 MB/s\u001b[0m eta \u001b[36m0:00:00\u001b[0m\n",
            "\u001b[2K   \u001b[90m━━━━━━━━━━━━━━━━━━━━━━━━━━━━━━━━━━━━━━━━\u001b[0m \u001b[32m207.5/207.5 MB\u001b[0m \u001b[31m6.5 MB/s\u001b[0m eta \u001b[36m0:00:00\u001b[0m\n",
            "\u001b[2K   \u001b[90m━━━━━━━━━━━━━━━━━━━━━━━━━━━━━━━━━━━━━━━━\u001b[0m \u001b[32m21.1/21.1 MB\u001b[0m \u001b[31m76.1 MB/s\u001b[0m eta \u001b[36m0:00:00\u001b[0m\n",
            "\u001b[2K   \u001b[90m━━━━━━━━━━━━━━━━━━━━━━━━━━━━━━━━━━━━━━━━\u001b[0m \u001b[32m459.8/459.8 kB\u001b[0m \u001b[31m27.4 MB/s\u001b[0m eta \u001b[36m0:00:00\u001b[0m\n",
            "\u001b[2K   \u001b[90m━━━━━━━━━━━━━━━━━━━━━━━━━━━━━━━━━━━━━━━━\u001b[0m \u001b[32m50.9/50.9 kB\u001b[0m \u001b[31m3.2 MB/s\u001b[0m eta \u001b[36m0:00:00\u001b[0m\n",
            "\u001b[2K   \u001b[90m━━━━━━━━━━━━━━━━━━━━━━━━━━━━━━━━━━━━━━━━\u001b[0m \u001b[32m216.5/216.5 kB\u001b[0m \u001b[31m14.6 MB/s\u001b[0m eta \u001b[36m0:00:00\u001b[0m\n",
            "\u001b[2K   \u001b[90m━━━━━━━━━━━━━━━━━━━━━━━━━━━━━━━━━━━━━━━━\u001b[0m \u001b[32m71.5/71.5 kB\u001b[0m \u001b[31m4.8 MB/s\u001b[0m eta \u001b[36m0:00:00\u001b[0m\n",
            "\u001b[2K   \u001b[90m━━━━━━━━━━━━━━━━━━━━━━━━━━━━━━━━━━━━━━━━\u001b[0m \u001b[32m4.0/4.0 MB\u001b[0m \u001b[31m95.0 MB/s\u001b[0m eta \u001b[36m0:00:00\u001b[0m\n",
            "\u001b[2K   \u001b[90m━━━━━━━━━━━━━━━━━━━━━━━━━━━━━━━━━━━━━━━━\u001b[0m \u001b[32m454.8/454.8 kB\u001b[0m \u001b[31m27.6 MB/s\u001b[0m eta \u001b[36m0:00:00\u001b[0m\n",
            "\u001b[2K   \u001b[90m━━━━━━━━━━━━━━━━━━━━━━━━━━━━━━━━━━━━━━━━\u001b[0m \u001b[32m46.0/46.0 kB\u001b[0m \u001b[31m2.6 MB/s\u001b[0m eta \u001b[36m0:00:00\u001b[0m\n",
            "\u001b[2K   \u001b[90m━━━━━━━━━━━━━━━━━━━━━━━━━━━━━━━━━━━━━━━━\u001b[0m \u001b[32m86.8/86.8 kB\u001b[0m \u001b[31m5.8 MB/s\u001b[0m eta \u001b[36m0:00:00\u001b[0m\n",
            "\u001b[?25h  Building wheel for pypika (pyproject.toml) ... \u001b[?25l\u001b[?25hdone\n"
          ]
        }
      ]
    },
    {
      "cell_type": "code",
      "source": [
        "from google.colab import userdata\n",
        "os.environ[\"OPENAI_API_KEY\"] = userdata.get('OPENAI_API_KEY')"
      ],
      "metadata": {
        "id": "w_0UPRXSdkrz"
      },
      "execution_count": 4,
      "outputs": []
    },
    {
      "cell_type": "code",
      "source": [
        "from langchain.chat_models import ChatOpenAI\n",
        "from langchain.agents import initialize_agent, AgentType\n",
        "from langchain.tools import tool\n",
        "import datetime\n",
        "\n",
        "# ========== 自訂工具定義 ==========\n",
        "\n",
        "# 使用 @tool 裝飾器定義可被 Agent 呼叫的工具\n",
        "@tool\n",
        "def get_weather(location: str) -> str:\n",
        "  \"\"\"查詢天氣\"\"\"\n",
        "  return f\"{location} 今天天氣晴，溫度約 25°C。\"\n",
        "\n",
        "@tool\n",
        "def get_time(location: str) -> str:\n",
        "  \"\"\"查詢時間\"\"\"\n",
        "  return f\"{location} 現在時間是下午 3:00。\"\n",
        "\n",
        "@tool\n",
        "def get_exchange_rate(currency: str) -> str:\n",
        "  \"\"\"查詢匯率\"\"\"\n",
        "  if currency.upper() == \"USD\":\n",
        "      return \"1 USD = 31.25 TWD\"\n",
        "  elif currency.upper() == \"JPY\":\n",
        "      return \"1 JPY = 0.22 TWD\"\n",
        "  else:\n",
        "      return f\"{currency.upper()} 匯率資料暫無法提供\"\n",
        "\n",
        "llm = ChatOpenAI(model=\"gpt-4o-mini\")\n",
        "\n",
        "system_prompt = \"請使用繁體中文回答所有問題。\"\n",
        "\n",
        "agent = initialize_agent(\n",
        "    tools=[get_weather, get_time, get_exchange_rate],  # 將所有工具傳入\n",
        "    llm=llm,\n",
        "    agent=AgentType.OPENAI_FUNCTIONS,\n",
        "    agent_kwargs={\"system_message\": system_prompt},  # 傳入 system prompt\n",
        "    verbose=True  # 開啟詳細日誌\n",
        ")"
      ],
      "metadata": {
        "id": "IzE1qOWF3rn1"
      },
      "execution_count": 9,
      "outputs": []
    },
    {
      "cell_type": "code",
      "source": [
        "response = agent.run(\"我想知道台北的天氣、現在時間以及美元的匯率。\")\n",
        "print(response)\n"
      ],
      "metadata": {
        "colab": {
          "base_uri": "https://localhost:8080/"
        },
        "id": "gyuzQ8OjdtL4",
        "outputId": "41337786-afdc-4a2d-b5be-7e8a8d49c445"
      },
      "execution_count": 10,
      "outputs": [
        {
          "output_type": "stream",
          "name": "stdout",
          "text": [
            "\n",
            "\n",
            "\u001b[1m> Entering new AgentExecutor chain...\u001b[0m\n",
            "\u001b[32;1m\u001b[1;3m\n",
            "Invoking: `get_weather` with `{'location': '台北'}`\n",
            "\n",
            "\n",
            "\u001b[0m\u001b[36;1m\u001b[1;3m台北 今天天氣晴，溫度約 25°C。\u001b[0m\u001b[32;1m\u001b[1;3m\n",
            "Invoking: `get_time` with `{'location': '台北'}`\n",
            "\n",
            "\n",
            "\u001b[0m\u001b[33;1m\u001b[1;3m台北 現在時間是下午 3:00。\u001b[0m\u001b[32;1m\u001b[1;3m\n",
            "Invoking: `get_exchange_rate` with `{'currency': '美元'}`\n",
            "\n",
            "\n",
            "\u001b[0m\u001b[38;5;200m\u001b[1;3m美元 匯率資料暫無法提供\u001b[0m\u001b[32;1m\u001b[1;3m台北今天天氣晴，溫度約 25°C。現在時間是下午 3:00。對於美元的匯率，我目前無法提供，抱歉造成不便。\u001b[0m\n",
            "\n",
            "\u001b[1m> Finished chain.\u001b[0m\n",
            "台北今天天氣晴，溫度約 25°C。現在時間是下午 3:00。對於美元的匯率，我目前無法提供，抱歉造成不便。\n"
          ]
        }
      ]
    },
    {
      "cell_type": "markdown",
      "source": [
        "## Advanced\n",
        "使用LangGraph建立一個流程，由llm判斷問題是否與哆啦A夢道具相關，若有則使用RAG在資料庫裡找尋相關資料，若無則由模型自行回答問題。\n",
        "\n",
        "Hint:參考流程圖"
      ],
      "metadata": {
        "id": "Gr30FIQmngU1"
      }
    },
    {
      "cell_type": "markdown",
      "source": [
        "![image.png](data:image/png;base64,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)"
      ],
      "metadata": {
        "id": "yPKOUr36aHBj"
      }
    },
    {
      "cell_type": "code",
      "source": [
        "import os\n",
        "from langchain.embeddings import HuggingFaceEmbeddings\n",
        "from langchain.vectorstores import Chroma\n",
        "from langchain_core.documents import Document\n",
        "from langchain.chat_models import ChatOpenAI\n",
        "from langchain.tools import tool\n",
        "from langgraph.graph import StateGraph, END\n",
        "\n",
        "# 建立 Embedding + 向量資料庫\n",
        "embedding_model = HuggingFaceEmbeddings(\n",
        "    model_name=\"infgrad/stella-base-zh-v3-1792d\",\n",
        "    encode_kwargs={\"normalize_embeddings\": True}\n",
        ")\n",
        "\n",
        "docs_text = \"\"\"\n",
        "道具名稱\t功能\n",
        "引路天使\t它可以告訴你最好的路，不至於在路上出意外。\n",
        "雲朵凝固瓦斯\t使用這個瓦斯的話，雲會凝固，變得可以奔走在雲上。\n",
        "交換繩\t兩人同時握住繩索的話，心還是一樣，但身體替換。\n",
        "室內旅行機\t可以顯示出各種地點的立體影像，但室內面積並不會隨之更動。會讓自己的家有旅行的味道。\n",
        "落難神明\t是一個難看老機器人。不過，幫助他的話，可以滿足3個請求。\n",
        "南北極徽章\t只要將自己與另外一個人貼上寫有「Ｎ」或「Ｓ」的徽章，就會變的像磁鐵一樣，同極相斥，異極相吸。\n",
        "間諜工具組合\t能用監視器看間諜人偶的「麥克風」和「」偵察的影像。\n",
        "聲音糖果\t只要利用這個錄製聲音，再給別人吃下去以後， 就可以得到被錄製聲音的特徵。\n",
        "進化退化放射線槍\t被這光照射到，動物就可以進化(或是退化)。\n",
        "算了算了棒\t用這個棒子將正在生氣的人的嘴巴堵住，並說「算了，算了」，那人氣就消了。\n",
        "助興樂團\t這兩個道具都是人型玩偶，都會播放音樂，讓氣氛變好；不同的是，只要讓小型插秧姑娘唱歌，就可以快速地完成插秧。\n",
        "四次元口袋\t哆啦A夢的道具都是放在這裡面的。四次元空間是個沒有大小的空間，要多大有多大。\n",
        "美食桌巾\t它可以幫你做出好吃的料理。無論甚麼料理都可以變出來。\n",
        "愛神之箭\t被箭射中的人，會對射箭的人產生好感。\n",
        "感動麥克風\t使用這個麥克風，發出的聲音就會讓人感動不已。\n",
        "桃太郎丸子\t讓動物吃下，他會對你言聽計從。\n",
        "樵夫之泉\t把東西丟到這個泉裡，女神就會出現。如果你說了實話，他就會給你一個更好、更新的東西。\n",
        "更衣照相機\t選擇合適的衣服，拍攝一下馬上就能穿在身上。\n",
        "穿透環\t可以穿過任何障礙。\n",
        "如果電話亭\t「如果這個世界是……」只要這樣對著話筒說話，就可以創造出你所說出的世界。但是當取消時，世界將會變成「平行世界」，雙方沒有瓜葛。\n",
        "翻譯蒟蒻\t吃了這個蒟蒻，任何人說的任何話，我們都可以聽懂、而且可以溝通。\n",
        "縮小燈\t被光照射到，東西會變小。\n",
        "記憶麵包\t只要吃下這個吐司，就能非常容易的記住事前寫在吐司上的事物。\n",
        "時光布\t包了的東西既可以變新，也可以變舊。\n",
        "竹蜻蜓\t是最常被哆啦A夢使用的道具！只要把它放置在身體任何部分，就可依自己意思在天空中翱翔。內藏超小型電池，可時速 80 公里連續飛行 8 小時。若是間斷飛行，還可撐更久！\n",
        "時光機\t除了時間移動之外，它也可以用來空間與空間間的互相移動。\n",
        "任意門\t只要心中想著想去的地點，電腦就會傳達並歪曲所在地與目的地間的空間而將兩地靠攏，跨過門就可以到達。但是不能去距離十光年以上的行星，或者是電腦地圖上沒有的地區。是很常用的道具，使用率位列第三，僅次於竹蜻蜓、時光機。\n",
        "\n",
        "\"\"\"\n",
        "\n",
        "lines = [line.strip() for line in docs_text.strip().split(\"\\n\")[1:] if line.strip()]\n",
        "docs = []\n",
        "for i in range(0, len(lines), 2):\n",
        "  if i + 1 < len(lines):\n",
        "      content = f\"{lines[i]}\\n{lines[i+1]}\"\n",
        "      docs.append(Document(page_content=content))\n",
        "\n",
        "persist_path = \"document_store\"\n",
        "if os.path.exists(persist_path):\n",
        "  vectorstore = Chroma(persist_directory=persist_path, embedding_function=embedding_model)\n",
        "else:\n",
        "  vectorstore = Chroma.from_documents(docs, embedding_model, persist_directory=persist_path)\n",
        "  vectorstore.persist()\n",
        "\n",
        "#  LLM 模型\n",
        "llm = ChatOpenAI(model=\"gpt-4o-mini\")\n"
      ],
      "metadata": {
        "id": "3DiCzGcAuS5p",
        "outputId": "a48e5ce0-21e0-4241-deb0-30a441424c0d",
        "colab": {
          "base_uri": "https://localhost:8080/"
        }
      },
      "execution_count": 84,
      "outputs": [
        {
          "output_type": "stream",
          "name": "stderr",
          "text": [
            "Some weights of BertModel were not initialized from the model checkpoint at infgrad/stella-base-zh-v3-1792d and are newly initialized: ['pooler.dense.bias', 'pooler.dense.weight']\n",
            "You should probably TRAIN this model on a down-stream task to be able to use it for predictions and inference.\n"
          ]
        }
      ]
    },
    {
      "cell_type": "code",
      "source": [
        "@tool\n",
        "def doraemon_tool(query: str) -> str:\n",
        "  \"\"\"查詢哆啦A夢道具相關資料\"\"\"\n",
        "  results = vectorstore.similarity_search(query, k=1)\n",
        "  return results[0].page_content if results else \"查無相關道具\"\n",
        "\n",
        "def is_doraemon_related(query: str) -> bool:\n",
        "  prompt = f\"請判斷這個問題是否與哆啦A夢道具相關。只回答「是」或「否」:{query}\"\n",
        "  result = llm.invoke(prompt).content.strip()\n",
        "  return result.startswith(\"是\")"
      ],
      "metadata": {
        "id": "RtukFI23vHfO"
      },
      "execution_count": 87,
      "outputs": []
    },
    {
      "cell_type": "code",
      "source": [
        "from typing import TypedDict\n",
        "\n",
        "class GraphState(TypedDict):\n",
        "  query: str\n",
        "  result: str\n",
        "\n",
        "# 節點：判斷問題\n",
        "def route_question(state: GraphState) -> str:\n",
        "  query = state[\"query\"]\n",
        "  is_related = is_doraemon_related(query)\n",
        "  route = \"doraemon\" if is_related else \"general\"\n",
        "  print(f\"路線判斷：{'哆啦A夢道具查詢' if is_related else '一般 LLM 回答'}\")\n",
        "  return route\n",
        "\n",
        "# 節點：處理哆啦A夢問題\n",
        "def handle_doraemon(state: GraphState) -> GraphState:\n",
        "  response = doraemon_tool(state[\"query\"])\n",
        "  return {\"query\": state[\"query\"], \"result\": response}\n",
        "\n",
        "# 節點：處理一般問題\n",
        "def handle_general(state: GraphState) -> GraphState:\n",
        "  response = llm.invoke(state[\"query\"]).content\n",
        "  return {\"query\": state[\"query\"], \"result\": response}\n",
        "\n",
        "# LangGraph 圖形定義\n",
        "workflow = StateGraph(GraphState)\n",
        "workflow.add_node(\"doraemon\", handle_doraemon)\n",
        "workflow.add_node(\"general\", handle_general)\n",
        "workflow.set_conditional_entry_point(route_question)\n",
        "workflow.add_edge(\"doraemon\", END)\n",
        "workflow.add_edge(\"general\", END)\n",
        "\n",
        "app = workflow.compile()\n"
      ],
      "metadata": {
        "id": "v3GjcWcUteZl"
      },
      "execution_count": 88,
      "outputs": []
    },
    {
      "cell_type": "code",
      "source": [
        "print(\"輸入你的問題（輸入 q 結束）：\")\n",
        "while True:\n",
        "    query = input(\"使用者: \")\n",
        "    if query.strip().lower() in [\"q\", \"quit\", \"exit\"]:\n",
        "        break\n",
        "\n",
        "    state = {\"query\": query}\n",
        "    result = app.invoke(state)\n",
        "    print(\"回答：\", result[\"result\"])\n",
        "    print(\"=\" * 60)"
      ],
      "metadata": {
        "id": "eQiNw21SubFj",
        "outputId": "6d5ffd00-a953-446f-d4f0-8dc4d414cef1",
        "colab": {
          "base_uri": "https://localhost:8080/"
        }
      },
      "execution_count": 89,
      "outputs": [
        {
          "name": "stdout",
          "output_type": "stream",
          "text": [
            "輸入你的問題（輸入 q 結束）：\n",
            "使用者: 你知道哆啦a夢的任意門是做甚麼的嗎\n",
            "路線判斷：哆啦A夢道具查詢\n",
            "回答： 任意門\t只要心中想著想去的地點，電腦就會傳達並歪曲所在地與目的地間的空間而將兩地靠攏，跨過門就可以到達。但是不能去距離十光年以上的行星，或者是電腦地圖上沒有的地區。是很常用的道具，使用率位列第三，僅次於竹蜻蜓、時光機。\n",
            "============================================================\n",
            "使用者: 那 間諜工具組合 是甚麼\n",
            "路線判斷：一般 LLM 回答\n",
            "回答： 「間諜工具組合」通常指的是一系列用於情報收集、監控和滲透的工具或軟體，這些工具可能被政府機構、情報機構或黑客等使用。這些工具可能包括：\n",
            "\n",
            "1. **監控軟體**：用於監聽通訊、記錄鍵盤輸入、截取螢幕等。\n",
            "2. **漏洞利用工具**：用於利用系統或應用程序中的弱點，以獲取未經授權的訪問權限。\n",
            "3. **社交工程工具**：用於通過操控人類行為來獲取敏感信息。\n",
            "4. **數據分析軟體**：用於分析和處理大量數據，以提取有用的信息。\n",
            "5. **偽裝工具**：用於隱藏身份或改變數據的真實性。\n",
            "\n",
            "這些工具的使用通常涉及法律和道德問題，因此在許多國家和地區受到嚴格管制。\n",
            "============================================================\n",
            "使用者: Q\n"
          ]
        }
      ]
    },
    {
      "cell_type": "markdown",
      "source": [
        "## 衍生應用  \n",
        "如果沒有提到 [哆啦A夢道具查詢]，  \n",
        "我的 route_question 就會容易判別錯誤  \n",
        "結合之前學過的history  \n",
        "我想把最後一組對話紀錄在history裡面  "
      ],
      "metadata": {
        "id": "mXOAOmOS7X78"
      }
    },
    {
      "cell_type": "code",
      "source": [
        "from typing import TypedDict, Optional\n",
        "from langchain.chat_models import ChatOpenAI\n",
        "from langchain.schema import SystemMessage,HumanMessage\n",
        "from langchain.tools import tool\n",
        "from langchain.vectorstores import Chroma\n",
        "from langchain_core.documents import Document\n",
        "class GraphState(TypedDict):\n",
        "    query: str\n",
        "    result: str\n",
        "    route: str\n",
        "    history: list[str]\n",
        "\n",
        "# 判斷是否為哆啦A夢相關工具\n",
        "\n",
        "def judge_tool(query: str, history: Optional[list[str]] = None) -> str:\n",
        "  \"\"\"判斷是否為哆啦A夢相關工具\"\"\"\n",
        "  if history is None:\n",
        "      history = []\n",
        "  full_context = \"\\n\".join(history + [f\"使用者：{query}\"])\n",
        "  prompt = f\"\"\"\n",
        "你是一個問題分類助手。請判斷最後一句使用者的問題，是否與「哆啦A夢的道具」有關。\n",
        "\n",
        "請依據以下標準判斷：\n",
        "- 若問題是詢問哆啦A夢中某個道具的「名稱、功能、用途、外觀、限制、原理」等，請回答「是」\n",
        "- 若問題與哆啦A夢人物、劇情無關，或是屬於一般知識（如英文單字、數學問題、常識等），請回答「否」\n",
        "- 如果不確定，也請保守回答「否」\n",
        "\n",
        "---\n",
        "對話內容如下：\n",
        "{full_context}\n",
        "\n",
        "請你只回覆「是」或「否」。\n",
        "\"\"\"\n",
        "\n",
        "  response = llm.invoke(prompt).content.strip()\n",
        "  return response\n",
        "\n",
        "# 哆啦A夢道具查詢工具\n",
        "@tool\n",
        "def doraemon_tool(query: str) -> str:\n",
        "  \"\"\"查詢哆啦A夢道具相關資料\"\"\"\n",
        "  results = vectorstore.similarity_search(query, k=1)\n",
        "  return results[0].page_content if results else \"沒有找到相關的道具\"\n",
        "\n",
        "\n",
        "# 節點：判斷問題\n",
        "def route_question(state: GraphState) -> str:\n",
        "  query = state[\"query\"]\n",
        "  history = state.get(\"history\", [])\n",
        "  response = judge_tool(query=query, history=history)\n",
        "  is_related = response.startswith(\"是\")\n",
        "  route = \"doraemon\" if is_related else \"general\"\n",
        "  print(f\"路線判斷：{'哆啦A夢道具查詢' if is_related else '一般 LLM 回答'}\")\n",
        "  return route\n",
        "\n",
        "# 節點：處理一般問題\n",
        "def handle_general(state: GraphState) -> GraphState:\n",
        "  response = llm.invoke(state[\"query\"]).content\n",
        "  return {\n",
        "      \"query\": state[\"query\"],\n",
        "      \"result\": response,\n",
        "      \"route\": \"general\",\n",
        "      \"history\": state.get(\"history\", [])\n",
        "  }\n",
        "def handle_general(state: GraphState) -> GraphState:\n",
        "    system_prompt = \"請使用繁體中文回答所有問題。\"\n",
        "    messages = [\n",
        "        SystemMessage(content=system_prompt),\n",
        "        HumanMessage(content=state[\"query\"])\n",
        "    ]\n",
        "    response = llm.invoke(messages).content\n",
        "    return {\n",
        "        \"query\": state[\"query\"],\n",
        "        \"result\": response,\n",
        "        \"route\": \"general\",\n",
        "        \"history\": state.get(\"history\", [])\n",
        "    }\n",
        "# 節點：處理哆啦A夢問題（使用 tool）\n",
        "def handle_doraemon(state: GraphState) -> GraphState:\n",
        "  history = state.get(\"history\", [])\n",
        "  answer = doraemon_tool.invoke({\"query\": state[\"query\"]})\n",
        "  new_history = history + [f\"使用者：{state['query']}\"]\n",
        "  return {\n",
        "      \"query\": state[\"query\"],\n",
        "      \"result\": answer,\n",
        "      \"route\": \"doraemon\",\n",
        "      \"history\": new_history[-1:]  # 保留最近一次問題\n",
        "  }"
      ],
      "metadata": {
        "id": "SUEK7zfBucwS"
      },
      "execution_count": 111,
      "outputs": []
    },
    {
      "cell_type": "code",
      "source": [
        "history = []\n",
        "print(\"輸入你的問題（輸入 q 結束）：\")\n",
        "while True:\n",
        "    query = input(\"使用者: \")\n",
        "    if query.strip().lower() in [\"q\", \"quit\", \"exit\"]:\n",
        "        break\n",
        "\n",
        "    state = {\"query\": query, \"result\": \"\", \"route\": \"\", \"history\": history}\n",
        "    route = route_question(state)\n",
        "    if route == \"doraemon\":\n",
        "        state = handle_doraemon(state)\n",
        "    else:\n",
        "        state = handle_general(state)\n",
        "\n",
        "    # 更新歷史，只存使用者問題\n",
        "    history = state[\"history\"]\n",
        "\n",
        "    print(\"回答：\", state[\"result\"])\n",
        "    print(\"=\" * 60)\n"
      ],
      "metadata": {
        "id": "j3uNEZa9x9mr",
        "outputId": "291772ed-b762-4c5b-d480-6898da8dd4cc",
        "colab": {
          "base_uri": "https://localhost:8080/"
        }
      },
      "execution_count": 112,
      "outputs": [
        {
          "name": "stdout",
          "output_type": "stream",
          "text": [
            "輸入你的問題（輸入 q 結束）：\n",
            "使用者: 你知道哆啦a夢的任意門是做甚麼的嗎\n",
            "路線判斷：哆啦A夢道具查詢\n",
            "回答： 任意門\t只要心中想著想去的地點，電腦就會傳達並歪曲所在地與目的地間的空間而將兩地靠攏，跨過門就可以到達。但是不能去距離十光年以上的行星，或者是電腦地圖上沒有的地區。是很常用的道具，使用率位列第三，僅次於竹蜻蜓、時光機。\n",
            "============================================================\n",
            "使用者: 那 間諜工具組合 是甚麼\n",
            "路線判斷：哆啦A夢道具查詢\n",
            "回答： 間諜工具組合\t能用監視器看間諜人偶的「麥克風」和「」偵察的影像。\n",
            "============================================================\n",
            "使用者: 紅茶的英文是甚麼\n",
            "路線判斷：一般 LLM 回答\n",
            "回答： 紅茶的英文是 \"black tea\"。\n",
            "============================================================\n",
            "使用者: q\n"
          ]
        }
      ]
    },
    {
      "cell_type": "markdown",
      "source": [
        "q :\n",
        "你知道哆啦a夢的任意門是做甚麼的嗎  \n",
        "那 間諜工具組合 是甚麼  \n",
        "紅茶的英文是甚麼  "
      ],
      "metadata": {
        "id": "vH7-DhrSAivB"
      }
    },
    {
      "cell_type": "code",
      "source": [
        "history = []\n",
        "print(\"輸入你的問題（輸入 q 結束）：\")\n",
        "while True:\n",
        "    query = input(\"使用者: \")\n",
        "    if query.strip().lower() in [\"q\", \"quit\", \"exit\"]:\n",
        "        break\n",
        "\n",
        "    state = {\"query\": query, \"result\": \"\", \"route\": \"\", \"history\": history}\n",
        "    route = route_question(state)\n",
        "    if route == \"doraemon\":\n",
        "        state = handle_doraemon(state)\n",
        "    else:\n",
        "        state = handle_general(state)\n",
        "\n",
        "    # 更新歷史，只存使用者問題\n",
        "    history = state[\"history\"]\n",
        "\n",
        "    print(\"回答：\", state[\"result\"])\n",
        "    print(\"=\" * 60)\n"
      ],
      "metadata": {
        "id": "LrWRBLCD_4gt",
        "outputId": "2e58a53b-ede4-4ea4-be34-4bbf371a409a",
        "colab": {
          "base_uri": "https://localhost:8080/"
        }
      },
      "execution_count": 115,
      "outputs": [
        {
          "name": "stdout",
          "output_type": "stream",
          "text": [
            "輸入你的問題（輸入 q 結束）：\n",
            "使用者: 你知道 多拉a夢嗎\n",
            "路線判斷：一般 LLM 回答\n",
            "回答： 知道的！《多啦A夢》是由藤本弘創作的漫畫和動畫，講述了一隻來自22世紀的機器貓——多啦A夢，回到過去幫助小學生野比大雄解決各種困難的故事。多啦A夢擁有各種神奇的道具，經常帶來幽默和感人的情節。這部作品在全球擁有大量的粉絲，也成為了日本文化的一部分。你對《多啦A夢》有什麼特別的問題或想法嗎？\n",
            "============================================================\n",
            "使用者: 那任意門是他的道具嗎\n",
            "路線判斷：哆啦A夢道具查詢\n",
            "回答： 任意門\t只要心中想著想去的地點，電腦就會傳達並歪曲所在地與目的地間的空間而將兩地靠攏，跨過門就可以到達。但是不能去距離十光年以上的行星，或者是電腦地圖上沒有的地區。是很常用的道具，使用率位列第三，僅次於竹蜻蜓、時光機。\n",
            "============================================================\n",
            "使用者: 那有沒有推薦可以記憶的道具\n",
            "路線判斷：哆啦A夢道具查詢\n",
            "回答： 道具名稱\t功能\n",
            "============================================================\n",
            "使用者: q\n"
          ]
        }
      ]
    },
    {
      "cell_type": "markdown",
      "source": [
        "你知道 多拉a夢嗎    \n",
        "那任意門是他的道具嗎  \n",
        "用來空間與空間間的互相移動 的道具是甚麼  "
      ],
      "metadata": {
        "id": "33mOURqHCU-W"
      }
    }
  ]
}